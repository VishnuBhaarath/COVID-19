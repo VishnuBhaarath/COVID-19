{
  "nbformat": 4,
  "nbformat_minor": 0,
  "metadata": {
    "colab": {
      "name": "COVID19analysis.ipynb",
      "provenance": [],
      "authorship_tag": "ABX9TyOn6sV2kdaxvlzWIr1yRO3V",
      "include_colab_link": true
    },
    "kernelspec": {
      "name": "python3",
      "display_name": "Python 3"
    }
  },
  "cells": [
    {
      "cell_type": "markdown",
      "metadata": {
        "id": "view-in-github",
        "colab_type": "text"
      },
      "source": [
        "<a href=\"https://colab.research.google.com/github/VishnuBhaarath/COVID-19/blob/master/COVID19analysis.ipynb\" target=\"_parent\"><img src=\"https://colab.research.google.com/assets/colab-badge.svg\" alt=\"Open In Colab\"/></a>"
      ]
    },
    {
      "cell_type": "code",
      "metadata": {
        "id": "OLTyxFVWdakT",
        "colab_type": "code",
        "colab": {}
      },
      "source": [
        "import pandas as pd\n",
        "import numpy as np"
      ],
      "execution_count": 0,
      "outputs": []
    },
    {
      "cell_type": "code",
      "metadata": {
        "id": "QEjbo4Cwe26d",
        "colab_type": "code",
        "colab": {}
      },
      "source": [
        "df=pd.read_csv('covid_19_data.csv')"
      ],
      "execution_count": 0,
      "outputs": []
    },
    {
      "cell_type": "code",
      "metadata": {
        "id": "N6nIHoc0iIM9",
        "colab_type": "code",
        "colab": {
          "base_uri": "https://localhost:8080/",
          "height": 195
        },
        "outputId": "512c5eae-3652-4330-ea4c-4563958ae7ed"
      },
      "source": [
        "df.head()"
      ],
      "execution_count": 4,
      "outputs": [
        {
          "output_type": "execute_result",
          "data": {
            "text/html": [
              "<div>\n",
              "<style scoped>\n",
              "    .dataframe tbody tr th:only-of-type {\n",
              "        vertical-align: middle;\n",
              "    }\n",
              "\n",
              "    .dataframe tbody tr th {\n",
              "        vertical-align: top;\n",
              "    }\n",
              "\n",
              "    .dataframe thead th {\n",
              "        text-align: right;\n",
              "    }\n",
              "</style>\n",
              "<table border=\"1\" class=\"dataframe\">\n",
              "  <thead>\n",
              "    <tr style=\"text-align: right;\">\n",
              "      <th></th>\n",
              "      <th>SNo</th>\n",
              "      <th>ObservationDate</th>\n",
              "      <th>Province/State</th>\n",
              "      <th>Country/Region</th>\n",
              "      <th>Last Update</th>\n",
              "      <th>Confirmed</th>\n",
              "      <th>Deaths</th>\n",
              "      <th>Recovered</th>\n",
              "    </tr>\n",
              "  </thead>\n",
              "  <tbody>\n",
              "    <tr>\n",
              "      <th>0</th>\n",
              "      <td>1</td>\n",
              "      <td>01/22/2020</td>\n",
              "      <td>Anhui</td>\n",
              "      <td>Mainland China</td>\n",
              "      <td>1/22/2020 17:00</td>\n",
              "      <td>1.0</td>\n",
              "      <td>0.0</td>\n",
              "      <td>0.0</td>\n",
              "    </tr>\n",
              "    <tr>\n",
              "      <th>1</th>\n",
              "      <td>2</td>\n",
              "      <td>01/22/2020</td>\n",
              "      <td>Beijing</td>\n",
              "      <td>Mainland China</td>\n",
              "      <td>1/22/2020 17:00</td>\n",
              "      <td>14.0</td>\n",
              "      <td>0.0</td>\n",
              "      <td>0.0</td>\n",
              "    </tr>\n",
              "    <tr>\n",
              "      <th>2</th>\n",
              "      <td>3</td>\n",
              "      <td>01/22/2020</td>\n",
              "      <td>Chongqing</td>\n",
              "      <td>Mainland China</td>\n",
              "      <td>1/22/2020 17:00</td>\n",
              "      <td>6.0</td>\n",
              "      <td>0.0</td>\n",
              "      <td>0.0</td>\n",
              "    </tr>\n",
              "    <tr>\n",
              "      <th>3</th>\n",
              "      <td>4</td>\n",
              "      <td>01/22/2020</td>\n",
              "      <td>Fujian</td>\n",
              "      <td>Mainland China</td>\n",
              "      <td>1/22/2020 17:00</td>\n",
              "      <td>1.0</td>\n",
              "      <td>0.0</td>\n",
              "      <td>0.0</td>\n",
              "    </tr>\n",
              "    <tr>\n",
              "      <th>4</th>\n",
              "      <td>5</td>\n",
              "      <td>01/22/2020</td>\n",
              "      <td>Gansu</td>\n",
              "      <td>Mainland China</td>\n",
              "      <td>1/22/2020 17:00</td>\n",
              "      <td>0.0</td>\n",
              "      <td>0.0</td>\n",
              "      <td>0.0</td>\n",
              "    </tr>\n",
              "  </tbody>\n",
              "</table>\n",
              "</div>"
            ],
            "text/plain": [
              "   SNo ObservationDate Province/State  ... Confirmed Deaths  Recovered\n",
              "0    1      01/22/2020          Anhui  ...       1.0    0.0        0.0\n",
              "1    2      01/22/2020        Beijing  ...      14.0    0.0        0.0\n",
              "2    3      01/22/2020      Chongqing  ...       6.0    0.0        0.0\n",
              "3    4      01/22/2020         Fujian  ...       1.0    0.0        0.0\n",
              "4    5      01/22/2020          Gansu  ...       0.0    0.0        0.0\n",
              "\n",
              "[5 rows x 8 columns]"
            ]
          },
          "metadata": {
            "tags": []
          },
          "execution_count": 4
        }
      ]
    },
    {
      "cell_type": "code",
      "metadata": {
        "id": "M_jaaUS6iMcP",
        "colab_type": "code",
        "colab": {
          "base_uri": "https://localhost:8080/",
          "height": 67
        },
        "outputId": "d36057d6-3810-4665-9a21-ee1eee7f078c"
      },
      "source": [
        "df.columns"
      ],
      "execution_count": 5,
      "outputs": [
        {
          "output_type": "execute_result",
          "data": {
            "text/plain": [
              "Index(['SNo', 'ObservationDate', 'Province/State', 'Country/Region',\n",
              "       'Last Update', 'Confirmed', 'Deaths', 'Recovered'],\n",
              "      dtype='object')"
            ]
          },
          "metadata": {
            "tags": []
          },
          "execution_count": 5
        }
      ]
    },
    {
      "cell_type": "code",
      "metadata": {
        "id": "jcQt6BGnifXQ",
        "colab_type": "code",
        "colab": {
          "base_uri": "https://localhost:8080/",
          "height": 806
        },
        "outputId": "e8d8248f-9d5f-4bf5-910f-5ae5b737d243"
      },
      "source": [
        "df['Country/Region'].unique()"
      ],
      "execution_count": 11,
      "outputs": [
        {
          "output_type": "execute_result",
          "data": {
            "text/plain": [
              "array(['Mainland China', 'Hong Kong', 'Macau', 'Taiwan', 'US', 'Japan',\n",
              "       'Thailand', 'South Korea', 'Singapore', 'Philippines', 'Malaysia',\n",
              "       'Vietnam', 'Australia', 'Mexico', 'Brazil', 'Colombia', 'France',\n",
              "       'Nepal', 'Canada', 'Cambodia', 'Sri Lanka', 'Ivory Coast',\n",
              "       'Germany', 'Finland', 'United Arab Emirates', 'India', 'Italy',\n",
              "       'UK', 'Russia', 'Sweden', 'Spain', 'Belgium', 'Others', 'Egypt',\n",
              "       'Iran', 'Israel', 'Lebanon', 'Iraq', 'Oman', 'Afghanistan',\n",
              "       'Bahrain', 'Kuwait', 'Austria', 'Algeria', 'Croatia',\n",
              "       'Switzerland', 'Pakistan', 'Georgia', 'Greece', 'North Macedonia',\n",
              "       'Norway', 'Romania', 'Denmark', 'Estonia', 'Netherlands',\n",
              "       'San Marino', ' Azerbaijan', 'Belarus', 'Iceland', 'Lithuania',\n",
              "       'New Zealand', 'Nigeria', 'North Ireland', 'Ireland', 'Luxembourg',\n",
              "       'Monaco', 'Qatar', 'Ecuador', 'Azerbaijan', 'Czech Republic',\n",
              "       'Armenia', 'Dominican Republic', 'Indonesia', 'Portugal',\n",
              "       'Andorra', 'Latvia', 'Morocco', 'Saudi Arabia', 'Senegal',\n",
              "       'Argentina', 'Chile', 'Jordan', 'Ukraine', 'Saint Barthelemy',\n",
              "       'Hungary', 'Faroe Islands', 'Gibraltar', 'Liechtenstein', 'Poland',\n",
              "       'Tunisia', 'Palestine', 'Bosnia and Herzegovina', 'Slovenia',\n",
              "       'South Africa', 'Bhutan', 'Cameroon', 'Costa Rica', 'Peru',\n",
              "       'Serbia', 'Slovakia', 'Togo', 'Vatican City', 'French Guiana',\n",
              "       'Malta', 'Martinique', 'Republic of Ireland', 'Bulgaria',\n",
              "       'Maldives', 'Bangladesh', 'Moldova', 'Paraguay', 'Albania',\n",
              "       'Cyprus', 'St. Martin', 'Brunei', 'occupied Palestinian territory',\n",
              "       \"('St. Martin',)\", 'Burkina Faso', 'Channel Islands', 'Holy See',\n",
              "       'Mongolia', 'Panama', 'Bolivia', 'Honduras', 'Congo (Kinshasa)',\n",
              "       'Jamaica', 'Reunion', 'Turkey', 'Cuba', 'Guyana', 'Kazakhstan',\n",
              "       'Cayman Islands', 'Guadeloupe', 'Ethiopia', 'Sudan', 'Guinea',\n",
              "       'Antigua and Barbuda', 'Aruba', 'Kenya', 'Uruguay', 'Ghana',\n",
              "       'Jersey', 'Namibia', 'Seychelles', 'Trinidad and Tobago',\n",
              "       'Venezuela', 'Curacao', 'Eswatini', 'Gabon', 'Guatemala',\n",
              "       'Guernsey', 'Mauritania', 'Rwanda', 'Saint Lucia',\n",
              "       'Saint Vincent and the Grenadines', 'Suriname', 'Kosovo',\n",
              "       'Central African Republic', 'Congo (Brazzaville)',\n",
              "       'Equatorial Guinea', 'Uzbekistan', 'Guam', 'Puerto Rico', 'Benin',\n",
              "       'Greenland', 'Liberia', 'Mayotte', 'Republic of the Congo',\n",
              "       'Somalia', 'Tanzania', 'The Bahamas', 'Barbados', 'Montenegro',\n",
              "       'The Gambia', 'Kyrgyzstan', 'Mauritius', 'Zambia', 'Djibouti',\n",
              "       'Gambia, The', 'Bahamas, The', 'Chad', 'El Salvador', 'Fiji',\n",
              "       'Nicaragua', 'Madagascar', 'Haiti', 'Angola', 'Cabo Verde',\n",
              "       'Niger', 'Papua New Guinea', 'Zimbabwe', 'Cape Verde',\n",
              "       'East Timor', 'Eritrea', 'Uganda', 'Bahamas', 'Dominica', 'Gambia',\n",
              "       'Grenada', 'Mozambique', 'Syria', 'Timor-Leste', 'Belize', 'Laos',\n",
              "       'Libya', 'Diamond Princess', 'Guinea-Bissau', 'Mali',\n",
              "       'Saint Kitts and Nevis', 'West Bank and Gaza', 'Burma',\n",
              "       'MS Zaandam', 'Botswana', 'Burundi', 'Sierra Leone', 'Malawi',\n",
              "       'South Sudan', 'Western Sahara', 'Sao Tome and Principe', 'Yemen'],\n",
              "      dtype=object)"
            ]
          },
          "metadata": {
            "tags": []
          },
          "execution_count": 11
        }
      ]
    },
    {
      "cell_type": "markdown",
      "metadata": {
        "id": "3uSLc-QJlAhP",
        "colab_type": "text"
      },
      "source": [
        "MainlandChina"
      ]
    },
    {
      "cell_type": "code",
      "metadata": {
        "id": "rtXZ8ZO7iwUN",
        "colab_type": "code",
        "colab": {
          "base_uri": "https://localhost:8080/",
          "height": 195
        },
        "outputId": "677267a6-e44d-450b-aa40-852f8ac49db8"
      },
      "source": [
        "MainlandChina=df[df['Country/Region']=='Mainland China']\n",
        "MainlandChina.head()"
      ],
      "execution_count": 14,
      "outputs": [
        {
          "output_type": "execute_result",
          "data": {
            "text/html": [
              "<div>\n",
              "<style scoped>\n",
              "    .dataframe tbody tr th:only-of-type {\n",
              "        vertical-align: middle;\n",
              "    }\n",
              "\n",
              "    .dataframe tbody tr th {\n",
              "        vertical-align: top;\n",
              "    }\n",
              "\n",
              "    .dataframe thead th {\n",
              "        text-align: right;\n",
              "    }\n",
              "</style>\n",
              "<table border=\"1\" class=\"dataframe\">\n",
              "  <thead>\n",
              "    <tr style=\"text-align: right;\">\n",
              "      <th></th>\n",
              "      <th>SNo</th>\n",
              "      <th>ObservationDate</th>\n",
              "      <th>Province/State</th>\n",
              "      <th>Country/Region</th>\n",
              "      <th>Last Update</th>\n",
              "      <th>Confirmed</th>\n",
              "      <th>Deaths</th>\n",
              "      <th>Recovered</th>\n",
              "    </tr>\n",
              "  </thead>\n",
              "  <tbody>\n",
              "    <tr>\n",
              "      <th>0</th>\n",
              "      <td>1</td>\n",
              "      <td>01/22/2020</td>\n",
              "      <td>Anhui</td>\n",
              "      <td>Mainland China</td>\n",
              "      <td>1/22/2020 17:00</td>\n",
              "      <td>1.0</td>\n",
              "      <td>0.0</td>\n",
              "      <td>0.0</td>\n",
              "    </tr>\n",
              "    <tr>\n",
              "      <th>1</th>\n",
              "      <td>2</td>\n",
              "      <td>01/22/2020</td>\n",
              "      <td>Beijing</td>\n",
              "      <td>Mainland China</td>\n",
              "      <td>1/22/2020 17:00</td>\n",
              "      <td>14.0</td>\n",
              "      <td>0.0</td>\n",
              "      <td>0.0</td>\n",
              "    </tr>\n",
              "    <tr>\n",
              "      <th>2</th>\n",
              "      <td>3</td>\n",
              "      <td>01/22/2020</td>\n",
              "      <td>Chongqing</td>\n",
              "      <td>Mainland China</td>\n",
              "      <td>1/22/2020 17:00</td>\n",
              "      <td>6.0</td>\n",
              "      <td>0.0</td>\n",
              "      <td>0.0</td>\n",
              "    </tr>\n",
              "    <tr>\n",
              "      <th>3</th>\n",
              "      <td>4</td>\n",
              "      <td>01/22/2020</td>\n",
              "      <td>Fujian</td>\n",
              "      <td>Mainland China</td>\n",
              "      <td>1/22/2020 17:00</td>\n",
              "      <td>1.0</td>\n",
              "      <td>0.0</td>\n",
              "      <td>0.0</td>\n",
              "    </tr>\n",
              "    <tr>\n",
              "      <th>4</th>\n",
              "      <td>5</td>\n",
              "      <td>01/22/2020</td>\n",
              "      <td>Gansu</td>\n",
              "      <td>Mainland China</td>\n",
              "      <td>1/22/2020 17:00</td>\n",
              "      <td>0.0</td>\n",
              "      <td>0.0</td>\n",
              "      <td>0.0</td>\n",
              "    </tr>\n",
              "  </tbody>\n",
              "</table>\n",
              "</div>"
            ],
            "text/plain": [
              "   SNo ObservationDate Province/State  ... Confirmed Deaths  Recovered\n",
              "0    1      01/22/2020          Anhui  ...       1.0    0.0        0.0\n",
              "1    2      01/22/2020        Beijing  ...      14.0    0.0        0.0\n",
              "2    3      01/22/2020      Chongqing  ...       6.0    0.0        0.0\n",
              "3    4      01/22/2020         Fujian  ...       1.0    0.0        0.0\n",
              "4    5      01/22/2020          Gansu  ...       0.0    0.0        0.0\n",
              "\n",
              "[5 rows x 8 columns]"
            ]
          },
          "metadata": {
            "tags": []
          },
          "execution_count": 14
        }
      ]
    },
    {
      "cell_type": "code",
      "metadata": {
        "id": "1-7-2kTQjTxM",
        "colab_type": "code",
        "colab": {
          "base_uri": "https://localhost:8080/",
          "height": 34
        },
        "outputId": "4a3e2453-e10e-4afa-cc85-b5203b955e8d"
      },
      "source": [
        "ConfirmedcasesMainlandChina=MainlandChina['Confirmed']\n",
        "ConfirmedcasesMainlandChina.sum(axis=0)"
      ],
      "execution_count": 21,
      "outputs": [
        {
          "output_type": "execute_result",
          "data": {
            "text/plain": [
              "5239552.0"
            ]
          },
          "metadata": {
            "tags": []
          },
          "execution_count": 21
        }
      ]
    },
    {
      "cell_type": "code",
      "metadata": {
        "id": "440gB7lBkTOv",
        "colab_type": "code",
        "colab": {
          "base_uri": "https://localhost:8080/",
          "height": 34
        },
        "outputId": "c5706f1e-11ab-4d32-e110-9212c92fc483"
      },
      "source": [
        "DeathcasesMainlandChina=MainlandChina['Deaths']\n",
        "DeathcasesMainlandChina.sum(axis=0)"
      ],
      "execution_count": 22,
      "outputs": [
        {
          "output_type": "execute_result",
          "data": {
            "text/plain": [
              "188935.0"
            ]
          },
          "metadata": {
            "tags": []
          },
          "execution_count": 22
        }
      ]
    },
    {
      "cell_type": "code",
      "metadata": {
        "id": "1kYeW4xAkzky",
        "colab_type": "code",
        "colab": {
          "base_uri": "https://localhost:8080/",
          "height": 34
        },
        "outputId": "905004e3-32b0-417b-e5dc-e4ca18e07513"
      },
      "source": [
        "RecoveredcasesMainlandChina=MainlandChina['Recovered']\n",
        "RecoveredcasesMainlandChina.sum(axis=0)"
      ],
      "execution_count": 23,
      "outputs": [
        {
          "output_type": "execute_result",
          "data": {
            "text/plain": [
              "3385015.0"
            ]
          },
          "metadata": {
            "tags": []
          },
          "execution_count": 23
        }
      ]
    },
    {
      "cell_type": "markdown",
      "metadata": {
        "id": "VmgUb2eapHyX",
        "colab_type": "text"
      },
      "source": [
        "Latest Updates"
      ]
    },
    {
      "cell_type": "code",
      "metadata": {
        "id": "uEZ4ivIyk9MH",
        "colab_type": "code",
        "colab": {}
      },
      "source": [
        "data=pd.read_excel('Book3.xlsx')"
      ],
      "execution_count": 0,
      "outputs": []
    },
    {
      "cell_type": "code",
      "metadata": {
        "id": "nqPRb-4kpPA-",
        "colab_type": "code",
        "colab": {
          "base_uri": "https://localhost:8080/",
          "height": 195
        },
        "outputId": "a9623cd0-3780-4793-e7bd-543435192a43"
      },
      "source": [
        "data.head()"
      ],
      "execution_count": 29,
      "outputs": [
        {
          "output_type": "execute_result",
          "data": {
            "text/html": [
              "<div>\n",
              "<style scoped>\n",
              "    .dataframe tbody tr th:only-of-type {\n",
              "        vertical-align: middle;\n",
              "    }\n",
              "\n",
              "    .dataframe tbody tr th {\n",
              "        vertical-align: top;\n",
              "    }\n",
              "\n",
              "    .dataframe thead th {\n",
              "        text-align: right;\n",
              "    }\n",
              "</style>\n",
              "<table border=\"1\" class=\"dataframe\">\n",
              "  <thead>\n",
              "    <tr style=\"text-align: right;\">\n",
              "      <th></th>\n",
              "      <th>Unnamed: 0</th>\n",
              "      <th>Unnamed: 1</th>\n",
              "      <th>Unnamed: 2</th>\n",
              "      <th>Unnamed: 3</th>\n",
              "      <th>Unnamed: 4</th>\n",
              "      <th>Unnamed: 5</th>\n",
              "      <th>Unnamed: 6</th>\n",
              "      <th>Unnamed: 7</th>\n",
              "      <th>Unnamed: 8</th>\n",
              "    </tr>\n",
              "  </thead>\n",
              "  <tbody>\n",
              "    <tr>\n",
              "      <th>0</th>\n",
              "      <td>NaN</td>\n",
              "      <td>NaN</td>\n",
              "      <td>NaN</td>\n",
              "      <td>NaN</td>\n",
              "      <td>NaN</td>\n",
              "      <td>NaN</td>\n",
              "      <td>NaN</td>\n",
              "      <td>NaN</td>\n",
              "      <td>NaN</td>\n",
              "    </tr>\n",
              "    <tr>\n",
              "      <th>1</th>\n",
              "      <td>NaN</td>\n",
              "      <td>NaN</td>\n",
              "      <td>NaN</td>\n",
              "      <td>NaN</td>\n",
              "      <td>Countries</td>\n",
              "      <td>Confirmed</td>\n",
              "      <td>Recoverd</td>\n",
              "      <td>Deaths</td>\n",
              "      <td>NaN</td>\n",
              "    </tr>\n",
              "    <tr>\n",
              "      <th>2</th>\n",
              "      <td>NaN</td>\n",
              "      <td>NaN</td>\n",
              "      <td>NaN</td>\n",
              "      <td>NaN</td>\n",
              "      <td>United States[e]</td>\n",
              "      <td>800932</td>\n",
              "      <td>43006</td>\n",
              "      <td>73379</td>\n",
              "      <td>[12]</td>\n",
              "    </tr>\n",
              "    <tr>\n",
              "      <th>3</th>\n",
              "      <td>NaN</td>\n",
              "      <td>NaN</td>\n",
              "      <td>NaN</td>\n",
              "      <td>NaN</td>\n",
              "      <td>Spain[f]</td>\n",
              "      <td>204178</td>\n",
              "      <td>21282</td>\n",
              "      <td>82514</td>\n",
              "      <td>[15]</td>\n",
              "    </tr>\n",
              "    <tr>\n",
              "      <th>4</th>\n",
              "      <td>NaN</td>\n",
              "      <td>NaN</td>\n",
              "      <td>NaN</td>\n",
              "      <td>NaN</td>\n",
              "      <td>Italy[g]</td>\n",
              "      <td>183957</td>\n",
              "      <td>24268</td>\n",
              "      <td>51600</td>\n",
              "      <td>[18]</td>\n",
              "    </tr>\n",
              "  </tbody>\n",
              "</table>\n",
              "</div>"
            ],
            "text/plain": [
              "   Unnamed: 0  Unnamed: 1  Unnamed: 2  ...  Unnamed: 6 Unnamed: 7 Unnamed: 8\n",
              "0         NaN         NaN         NaN  ...         NaN        NaN        NaN\n",
              "1         NaN         NaN         NaN  ...    Recoverd     Deaths        NaN\n",
              "2         NaN         NaN         NaN  ...       43006      73379       [12]\n",
              "3         NaN         NaN         NaN  ...       21282      82514       [15]\n",
              "4         NaN         NaN         NaN  ...       24268      51600       [18]\n",
              "\n",
              "[5 rows x 9 columns]"
            ]
          },
          "metadata": {
            "tags": []
          },
          "execution_count": 29
        }
      ]
    },
    {
      "cell_type": "code",
      "metadata": {
        "id": "9F65Abq4pQ51",
        "colab_type": "code",
        "colab": {
          "base_uri": "https://localhost:8080/",
          "height": 67
        },
        "outputId": "6affd812-130a-432a-97ba-d6573f7490ae"
      },
      "source": [
        "data.columns"
      ],
      "execution_count": 30,
      "outputs": [
        {
          "output_type": "execute_result",
          "data": {
            "text/plain": [
              "Index(['Unnamed: 0', 'Unnamed: 1', 'Unnamed: 2', 'Unnamed: 3', 'Unnamed: 4',\n",
              "       'Unnamed: 5', 'Unnamed: 6', 'Unnamed: 7', 'Unnamed: 8'],\n",
              "      dtype='object')"
            ]
          },
          "metadata": {
            "tags": []
          },
          "execution_count": 30
        }
      ]
    },
    {
      "cell_type": "code",
      "metadata": {
        "id": "KWUjiOXXrsyj",
        "colab_type": "code",
        "colab": {}
      },
      "source": [
        "Worldwidelist=data[['Unnamed: 4','Unnamed: 5','Unnamed: 6','Unnamed: 7']]"
      ],
      "execution_count": 0,
      "outputs": []
    },
    {
      "cell_type": "code",
      "metadata": {
        "id": "eoN4OeO3sVrV",
        "colab_type": "code",
        "colab": {
          "base_uri": "https://localhost:8080/",
          "height": 195
        },
        "outputId": "c40726b5-d63f-488c-a42d-818a68cf4a69"
      },
      "source": [
        "Worldwidelist.head()"
      ],
      "execution_count": 52,
      "outputs": [
        {
          "output_type": "execute_result",
          "data": {
            "text/html": [
              "<div>\n",
              "<style scoped>\n",
              "    .dataframe tbody tr th:only-of-type {\n",
              "        vertical-align: middle;\n",
              "    }\n",
              "\n",
              "    .dataframe tbody tr th {\n",
              "        vertical-align: top;\n",
              "    }\n",
              "\n",
              "    .dataframe thead th {\n",
              "        text-align: right;\n",
              "    }\n",
              "</style>\n",
              "<table border=\"1\" class=\"dataframe\">\n",
              "  <thead>\n",
              "    <tr style=\"text-align: right;\">\n",
              "      <th></th>\n",
              "      <th>Unnamed: 4</th>\n",
              "      <th>Unnamed: 5</th>\n",
              "      <th>Unnamed: 6</th>\n",
              "      <th>Unnamed: 7</th>\n",
              "    </tr>\n",
              "  </thead>\n",
              "  <tbody>\n",
              "    <tr>\n",
              "      <th>0</th>\n",
              "      <td>NaN</td>\n",
              "      <td>NaN</td>\n",
              "      <td>NaN</td>\n",
              "      <td>NaN</td>\n",
              "    </tr>\n",
              "    <tr>\n",
              "      <th>1</th>\n",
              "      <td>Countries</td>\n",
              "      <td>Confirmed</td>\n",
              "      <td>Recoverd</td>\n",
              "      <td>Deaths</td>\n",
              "    </tr>\n",
              "    <tr>\n",
              "      <th>2</th>\n",
              "      <td>United States[e]</td>\n",
              "      <td>800932</td>\n",
              "      <td>43006</td>\n",
              "      <td>73379</td>\n",
              "    </tr>\n",
              "    <tr>\n",
              "      <th>3</th>\n",
              "      <td>Spain[f]</td>\n",
              "      <td>204178</td>\n",
              "      <td>21282</td>\n",
              "      <td>82514</td>\n",
              "    </tr>\n",
              "    <tr>\n",
              "      <th>4</th>\n",
              "      <td>Italy[g]</td>\n",
              "      <td>183957</td>\n",
              "      <td>24268</td>\n",
              "      <td>51600</td>\n",
              "    </tr>\n",
              "  </tbody>\n",
              "</table>\n",
              "</div>"
            ],
            "text/plain": [
              "         Unnamed: 4 Unnamed: 5 Unnamed: 6 Unnamed: 7\n",
              "0               NaN        NaN        NaN        NaN\n",
              "1         Countries  Confirmed   Recoverd     Deaths\n",
              "2  United States[e]     800932      43006      73379\n",
              "3          Spain[f]     204178      21282      82514\n",
              "4          Italy[g]     183957      24268      51600"
            ]
          },
          "metadata": {
            "tags": []
          },
          "execution_count": 52
        }
      ]
    },
    {
      "cell_type": "code",
      "metadata": {
        "id": "iSpzW3AgsYoh",
        "colab_type": "code",
        "colab": {}
      },
      "source": [
        "Worldwidelist=Worldwidelist.dropna()"
      ],
      "execution_count": 0,
      "outputs": []
    },
    {
      "cell_type": "code",
      "metadata": {
        "id": "TYORPseGsqYJ",
        "colab_type": "code",
        "colab": {}
      },
      "source": [
        "Worldwidelist=Worldwidelist.rename(columns={\"Unnamed: 4\": \"Countries\", \"Unnamed: 5\": \"Confirmed cases\",\"Unnamed: 6\": \"Recoverd cases\",\"Unnamed: 7\": \"Deaths\"})"
      ],
      "execution_count": 0,
      "outputs": []
    },
    {
      "cell_type": "code",
      "metadata": {
        "id": "mG7ueeRWtqRK",
        "colab_type": "code",
        "colab": {
          "base_uri": "https://localhost:8080/",
          "height": 195
        },
        "outputId": "79a06baf-fc77-40e0-8f6e-d05543762d9e"
      },
      "source": [
        "Worldwidelist.head()"
      ],
      "execution_count": 55,
      "outputs": [
        {
          "output_type": "execute_result",
          "data": {
            "text/html": [
              "<div>\n",
              "<style scoped>\n",
              "    .dataframe tbody tr th:only-of-type {\n",
              "        vertical-align: middle;\n",
              "    }\n",
              "\n",
              "    .dataframe tbody tr th {\n",
              "        vertical-align: top;\n",
              "    }\n",
              "\n",
              "    .dataframe thead th {\n",
              "        text-align: right;\n",
              "    }\n",
              "</style>\n",
              "<table border=\"1\" class=\"dataframe\">\n",
              "  <thead>\n",
              "    <tr style=\"text-align: right;\">\n",
              "      <th></th>\n",
              "      <th>Countries</th>\n",
              "      <th>Confirmed cases</th>\n",
              "      <th>Recoverd cases</th>\n",
              "      <th>Deaths</th>\n",
              "    </tr>\n",
              "  </thead>\n",
              "  <tbody>\n",
              "    <tr>\n",
              "      <th>1</th>\n",
              "      <td>Countries</td>\n",
              "      <td>Confirmed</td>\n",
              "      <td>Recoverd</td>\n",
              "      <td>Deaths</td>\n",
              "    </tr>\n",
              "    <tr>\n",
              "      <th>2</th>\n",
              "      <td>United States[e]</td>\n",
              "      <td>800932</td>\n",
              "      <td>43006</td>\n",
              "      <td>73379</td>\n",
              "    </tr>\n",
              "    <tr>\n",
              "      <th>3</th>\n",
              "      <td>Spain[f]</td>\n",
              "      <td>204178</td>\n",
              "      <td>21282</td>\n",
              "      <td>82514</td>\n",
              "    </tr>\n",
              "    <tr>\n",
              "      <th>4</th>\n",
              "      <td>Italy[g]</td>\n",
              "      <td>183957</td>\n",
              "      <td>24268</td>\n",
              "      <td>51600</td>\n",
              "    </tr>\n",
              "    <tr>\n",
              "      <th>5</th>\n",
              "      <td>Germany[h]</td>\n",
              "      <td>148004</td>\n",
              "      <td>4939</td>\n",
              "      <td>84717</td>\n",
              "    </tr>\n",
              "  </tbody>\n",
              "</table>\n",
              "</div>"
            ],
            "text/plain": [
              "          Countries Confirmed cases Recoverd cases  Deaths\n",
              "1         Countries       Confirmed       Recoverd  Deaths\n",
              "2  United States[e]          800932          43006   73379\n",
              "3          Spain[f]          204178          21282   82514\n",
              "4          Italy[g]          183957          24268   51600\n",
              "5        Germany[h]          148004           4939   84717"
            ]
          },
          "metadata": {
            "tags": []
          },
          "execution_count": 55
        }
      ]
    },
    {
      "cell_type": "code",
      "metadata": {
        "id": "obpS_DS3ttsO",
        "colab_type": "code",
        "colab": {}
      },
      "source": [
        "Worldwidelist=Worldwidelist.drop(1)"
      ],
      "execution_count": 0,
      "outputs": []
    },
    {
      "cell_type": "code",
      "metadata": {
        "id": "nEZmOOeru-Be",
        "colab_type": "code",
        "colab": {
          "base_uri": "https://localhost:8080/",
          "height": 195
        },
        "outputId": "ec2a02c4-bb7d-4f3e-b747-4be31b9e74e7"
      },
      "source": [
        "Worldwidelist.head()"
      ],
      "execution_count": 58,
      "outputs": [
        {
          "output_type": "execute_result",
          "data": {
            "text/html": [
              "<div>\n",
              "<style scoped>\n",
              "    .dataframe tbody tr th:only-of-type {\n",
              "        vertical-align: middle;\n",
              "    }\n",
              "\n",
              "    .dataframe tbody tr th {\n",
              "        vertical-align: top;\n",
              "    }\n",
              "\n",
              "    .dataframe thead th {\n",
              "        text-align: right;\n",
              "    }\n",
              "</style>\n",
              "<table border=\"1\" class=\"dataframe\">\n",
              "  <thead>\n",
              "    <tr style=\"text-align: right;\">\n",
              "      <th></th>\n",
              "      <th>Countries</th>\n",
              "      <th>Confirmed cases</th>\n",
              "      <th>Recoverd cases</th>\n",
              "      <th>Deaths</th>\n",
              "    </tr>\n",
              "  </thead>\n",
              "  <tbody>\n",
              "    <tr>\n",
              "      <th>2</th>\n",
              "      <td>United States[e]</td>\n",
              "      <td>800932</td>\n",
              "      <td>43006</td>\n",
              "      <td>73379</td>\n",
              "    </tr>\n",
              "    <tr>\n",
              "      <th>3</th>\n",
              "      <td>Spain[f]</td>\n",
              "      <td>204178</td>\n",
              "      <td>21282</td>\n",
              "      <td>82514</td>\n",
              "    </tr>\n",
              "    <tr>\n",
              "      <th>4</th>\n",
              "      <td>Italy[g]</td>\n",
              "      <td>183957</td>\n",
              "      <td>24268</td>\n",
              "      <td>51600</td>\n",
              "    </tr>\n",
              "    <tr>\n",
              "      <th>5</th>\n",
              "      <td>Germany[h]</td>\n",
              "      <td>148004</td>\n",
              "      <td>4939</td>\n",
              "      <td>84717</td>\n",
              "    </tr>\n",
              "    <tr>\n",
              "      <th>6</th>\n",
              "      <td>United Kingdom[i]</td>\n",
              "      <td>129044</td>\n",
              "      <td>17337</td>\n",
              "      <td>—</td>\n",
              "    </tr>\n",
              "  </tbody>\n",
              "</table>\n",
              "</div>"
            ],
            "text/plain": [
              "           Countries Confirmed cases Recoverd cases Deaths\n",
              "2   United States[e]          800932          43006  73379\n",
              "3           Spain[f]          204178          21282  82514\n",
              "4           Italy[g]          183957          24268  51600\n",
              "5         Germany[h]          148004           4939  84717\n",
              "6  United Kingdom[i]          129044          17337      —"
            ]
          },
          "metadata": {
            "tags": []
          },
          "execution_count": 58
        }
      ]
    },
    {
      "cell_type": "code",
      "metadata": {
        "id": "bLh4pUlr1gkO",
        "colab_type": "code",
        "colab": {}
      },
      "source": [
        "import matplotlib.pyplot as plt"
      ],
      "execution_count": 0,
      "outputs": []
    },
    {
      "cell_type": "code",
      "metadata": {
        "id": "7et4fBVN3g-H",
        "colab_type": "code",
        "colab": {}
      },
      "source": [
        "plot = Worldwidelist.plot.pie(y='Confirmed cases', labels=Worldwidelist['Countries'], figsize=(5, 5))"
      ],
      "execution_count": 0,
      "outputs": []
    },
    {
      "cell_type": "code",
      "metadata": {
        "id": "BsL6QvdL6Jck",
        "colab_type": "code",
        "colab": {
          "base_uri": "https://localhost:8080/",
          "height": 67
        },
        "outputId": "96541738-4122-4e4a-e06d-6115cf9de8ab"
      },
      "source": [
        "pip install openpyxl"
      ],
      "execution_count": 69,
      "outputs": [
        {
          "output_type": "stream",
          "text": [
            "Requirement already satisfied: openpyxl in /usr/local/lib/python3.6/dist-packages (2.5.9)\n",
            "Requirement already satisfied: et-xmlfile in /usr/local/lib/python3.6/dist-packages (from openpyxl) (1.0.1)\n",
            "Requirement already satisfied: jdcal in /usr/local/lib/python3.6/dist-packages (from openpyxl) (1.4.1)\n"
          ],
          "name": "stdout"
        }
      ]
    },
    {
      "cell_type": "code",
      "metadata": {
        "id": "j4X1OpVA4Lpr",
        "colab_type": "code",
        "colab": {
          "base_uri": "https://localhost:8080/",
          "height": 34
        },
        "outputId": "aab10315-14a3-4b9b-f744-5ec9e3b118ee"
      },
      "source": [
        "writer = pd.ExcelWriter('Covid19latest.xlsx')\n",
        "Worldwidelist.to_excel(writer)\n",
        "# save the excel\n",
        "writer.save()\n",
        "print('DataFrame is written successfully to Excel File.')"
      ],
      "execution_count": 71,
      "outputs": [
        {
          "output_type": "stream",
          "text": [
            "DataFrame is written successfully to Excel File.\n"
          ],
          "name": "stdout"
        }
      ]
    },
    {
      "cell_type": "code",
      "metadata": {
        "id": "lMdqG7UG6Bhs",
        "colab_type": "code",
        "colab": {}
      },
      "source": [
        ""
      ],
      "execution_count": 0,
      "outputs": []
    }
  ]
}